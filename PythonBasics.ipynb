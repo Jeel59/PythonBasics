{
  "nbformat": 4,
  "nbformat_minor": 0,
  "metadata": {
    "colab": {
      "provenance": []
    },
    "kernelspec": {
      "name": "python3",
      "display_name": "Python 3"
    },
    "language_info": {
      "name": "python"
    }
  },
  "cells": [
    {
      "cell_type": "markdown",
      "source": [
        "#PythonBasics\n"
      ],
      "metadata": {
        "id": "zjze70u-ehu8"
      }
    },
    {
      "cell_type": "markdown",
      "source": [
        "1. What is Python, and why is it popular?\n",
        "\n",
        "Python is a high-level programming language that is easy to learn and read. It's popular because it's beginner-friendly, has a clean syntax, and supports many libraries for things like web development, data analysis, AI, and more.\n",
        "\n",
        "2. What is an interpreter in Python?\n",
        "\n",
        "An interpreter is a program that reads and runs Python code line by line. It helps in testing and debugging easily because you can see results instantly.\n",
        "\n",
        "3. What are pre-defined keywords in Python?\n",
        "\n",
        "Keywords are reserved words in Python that have special meanings, like if, else, while, def, etc. You cannot use them as variable names.\n",
        "\n",
        "4. Can keywords be used as variable names?\n",
        "\n",
        "No, Python keywords cannot be used as variable names because they are part of the language syntax and used to perform specific functions.\n",
        "\n",
        "5. What is mutability in Python?\n",
        "\n",
        "Mutability means whether a data object can be changed after it is created. If it can be changed, it is mutable, otherwise it is immutable\n",
        "\n",
        "6. Why are lists mutable, but tuples are immutable?\n",
        "\n",
        "Lists are mutable because we can add, remove, or change elements in them. Tuples are immutable, meaning once created, their content cannot be changed. This makes tuples faster and safer for fixed data.\n",
        "\n",
        "7. What is the difference between == and is operators in Python?\n",
        "\n",
        "== checks if the values are the same, while is checks if the two variables point to the same memory location (object identity)\n",
        "\n",
        "8. What are logical operators in Python?\n",
        "\n",
        "Logical operators are used to combine conditions. They are:\n",
        "and (both conditions must be true)\n",
        "or (any one condition is true)\n",
        "not (reverses the condition)\n",
        "\n",
        "9. What is type casting in Python?\n",
        "\n",
        "Type casting means converting one data type to another. For example, converting a string to an integer using int(\"5\").\n",
        "\n",
        "10. What is the difference between implicit and explicit type casting?\n",
        "\n",
        "Implicit casting is done automatically by Python, like turning an int into a float.\n",
        "Explicit casting is done manually by the programmer using functions like int(), float(), or str().\n",
        "\n",
        "11. What is the purpose of conditional statements in Python?\n",
        "\n",
        "Conditional statements like if, elif, and else are used to run different code depending on conditions. They help in decision-making in programs.\n",
        "\n",
        "12. How does the elif statement work?\n",
        "\n",
        "elif stands for \"else if\". It checks another condition if the previous if was false. It helps avoid writing multiple nested if statements.\n",
        "\n",
        "13. What is the difference between for and while loops?\n",
        "\n",
        "A for loop runs a fixed number of times (good for iterating over a list or range).\n",
        "A while loop runs as long as a condition is true (used when we don’t know how many times to loop).\n",
        "14. Describe a scenario where a while loop is more suitable than a for loop.\n",
        "\n",
        "\n",
        "\n"
      ],
      "metadata": {
        "id": "nJy1TIOpfIoA"
      }
    },
    {
      "cell_type": "code",
      "source": [
        "print(\"Hello world\")"
      ],
      "metadata": {
        "colab": {
          "base_uri": "https://localhost:8080/"
        },
        "id": "uk6Uf5iGe_ZW",
        "outputId": "d6808f8b-af7d-4ed6-d289-0d77c84cc03d"
      },
      "execution_count": 2,
      "outputs": [
        {
          "output_type": "stream",
          "name": "stdout",
          "text": [
            "Hello world\n"
          ]
        }
      ]
    },
    {
      "cell_type": "code",
      "source": [
        "print(\"My Name Is Jeel Patel\" , \"I am 18 year Old\")\n"
      ],
      "metadata": {
        "colab": {
          "base_uri": "https://localhost:8080/"
        },
        "id": "0BzUr4EEh8FH",
        "outputId": "46cb78a3-ee55-446b-e1e9-fe7402526882"
      },
      "execution_count": 2,
      "outputs": [
        {
          "output_type": "stream",
          "name": "stdout",
          "text": [
            "My Name Is Jeel Patel I am 18 year Old\n"
          ]
        }
      ]
    },
    {
      "cell_type": "code",
      "source": [
        "import keyword\n",
        "print(keyword.kwlist)\n"
      ],
      "metadata": {
        "colab": {
          "base_uri": "https://localhost:8080/"
        },
        "id": "9_C7U86ifhxm",
        "outputId": "108e963d-022c-4ed8-c86a-760771000958"
      },
      "execution_count": 3,
      "outputs": [
        {
          "output_type": "stream",
          "name": "stdout",
          "text": [
            "['False', 'None', 'True', 'and', 'as', 'assert', 'async', 'await', 'break', 'class', 'continue', 'def', 'del', 'elif', 'else', 'except', 'finally', 'for', 'from', 'global', 'if', 'import', 'in', 'is', 'lambda', 'nonlocal', 'not', 'or', 'pass', 'raise', 'return', 'try', 'while', 'with', 'yield']\n"
          ]
        }
      ]
    },
    {
      "cell_type": "code",
      "source": [
        "import keyword\n",
        "word = input(\"Enter a word: \")\n",
        "if keyword.iskeyword(word):\n",
        "    print(word, \"is a Python keyword.\")\n",
        "else:\n",
        "    print(word, \"is not a Python keyword.\")\n"
      ],
      "metadata": {
        "colab": {
          "base_uri": "https://localhost:8080/"
        },
        "id": "YlgXaiTdf8q9",
        "outputId": "8353d33c-718b-4abd-ea46-f2df4148fff7"
      },
      "execution_count": 4,
      "outputs": [
        {
          "output_type": "stream",
          "name": "stdout",
          "text": [
            "Enter a word: hh\n",
            "hh is not a Python keyword.\n"
          ]
        }
      ]
    },
    {
      "cell_type": "code",
      "source": [
        "my_list = [1, 2, 3]\n",
        "my_tuple = (1, 2, 3)\n",
        "\n",
        "my_list[0] = 10\n",
        "print(\"Modified list:\", my_list)\n",
        "\n",
        "try:\n",
        "    my_tuple[0] = 10\n",
        "except TypeError:\n",
        "    print(\"Tuples are immutable!\")\n"
      ],
      "metadata": {
        "colab": {
          "base_uri": "https://localhost:8080/"
        },
        "id": "DVSoDaFigG6t",
        "outputId": "f7b6a28e-b370-49d9-9673-63bf30ba4443"
      },
      "execution_count": 5,
      "outputs": [
        {
          "output_type": "stream",
          "name": "stdout",
          "text": [
            "Modified list: [10, 2, 3]\n",
            "Tuples are immutable!\n"
          ]
        }
      ]
    },
    {
      "cell_type": "code",
      "source": [
        "def modify_list(lst):\n",
        "    lst.append(100)\n",
        "\n",
        "def modify_number(n):\n",
        "    n += 10\n",
        "    return n\n",
        "\n",
        "l = [1, 2, 3]\n",
        "modify_list(l)\n",
        "print(\"List after modification:\", l)\n",
        "\n",
        "x = 5\n",
        "x = modify_number(x)\n",
        "print(\"Number after function:\", x)\n"
      ],
      "metadata": {
        "colab": {
          "base_uri": "https://localhost:8080/"
        },
        "id": "XF9--gS8gK0d",
        "outputId": "95ec521b-adef-4d45-b9e4-4a0f1993f911"
      },
      "execution_count": 6,
      "outputs": [
        {
          "output_type": "stream",
          "name": "stdout",
          "text": [
            "List after modification: [1, 2, 3, 100]\n",
            "Number after function: 15\n"
          ]
        }
      ]
    },
    {
      "cell_type": "code",
      "source": [
        "a = int(input(\"Enter first number: \"))\n",
        "b = int(input(\"Enter second number: \"))\n",
        "\n",
        "print(\"Sum:\", a + b)\n",
        "print(\"Difference:\", a - b)\n",
        "print(\"Product:\", a * b)\n",
        "print(\"Division:\", a / b)\n"
      ],
      "metadata": {
        "colab": {
          "base_uri": "https://localhost:8080/"
        },
        "id": "4scVj-I2gSGl",
        "outputId": "ee772052-c340-4ac5-af8f-0b5262f7db2b"
      },
      "execution_count": 7,
      "outputs": [
        {
          "output_type": "stream",
          "name": "stdout",
          "text": [
            "Enter first number: 55\n",
            "Enter second number: 67\n",
            "Sum: 122\n",
            "Difference: -12\n",
            "Product: 3685\n",
            "Division: 0.8208955223880597\n"
          ]
        }
      ]
    },
    {
      "cell_type": "code",
      "source": [
        "x = int(input(\"Enter a number: \"))\n",
        "print(x > 0 and x < 10)\n",
        "print(x < 0 or x > 100)\n",
        "print(not (x == 5))\n"
      ],
      "metadata": {
        "colab": {
          "base_uri": "https://localhost:8080/"
        },
        "id": "nYHDcK8ageaF",
        "outputId": "82e039d6-bbf6-4f33-85e1-4ece5a0a02dc"
      },
      "execution_count": 8,
      "outputs": [
        {
          "output_type": "stream",
          "name": "stdout",
          "text": [
            "Enter a number: 55\n",
            "False\n",
            "False\n",
            "True\n"
          ]
        }
      ]
    },
    {
      "cell_type": "code",
      "source": [
        "s = input(\"Enter a number: \")\n",
        "\n",
        "i = int(s)\n",
        "f = float(s)\n",
        "b = bool(s)\n",
        "\n",
        "print(\"Integer:\", i)\n",
        "print(\"Float:\", f)\n",
        "print(\"Boolean:\", b)\n"
      ],
      "metadata": {
        "colab": {
          "base_uri": "https://localhost:8080/"
        },
        "id": "cmSgQHSlgkbO",
        "outputId": "159e88fd-7de2-4172-cd01-2d14fc96e494"
      },
      "execution_count": 9,
      "outputs": [
        {
          "output_type": "stream",
          "name": "stdout",
          "text": [
            "Enter a number: 45\n",
            "Integer: 45\n",
            "Float: 45.0\n",
            "Boolean: True\n"
          ]
        }
      ]
    },
    {
      "cell_type": "code",
      "source": [
        "str_list = ['1', '2', '3']\n",
        "int_list = [int(x) for x in str_list]\n",
        "print(\"Converted list:\", int_list)\n"
      ],
      "metadata": {
        "colab": {
          "base_uri": "https://localhost:8080/"
        },
        "id": "h_MJ6FkOgoQB",
        "outputId": "a8deed65-0486-48d7-fd33-e8033533487b"
      },
      "execution_count": 11,
      "outputs": [
        {
          "output_type": "stream",
          "name": "stdout",
          "text": [
            "Converted list: [1, 2, 3]\n"
          ]
        }
      ]
    },
    {
      "cell_type": "code",
      "source": [
        "num = int(input(\"Enter a number: \"))\n",
        "\n",
        "if num > 0:\n",
        "    print(\"Positive\")\n",
        "elif num < 0:\n",
        "    print(\"Negative\")\n",
        "else:\n",
        "    print(\"Zero\")\n"
      ],
      "metadata": {
        "colab": {
          "base_uri": "https://localhost:8080/"
        },
        "id": "ECvE8YS7guec",
        "outputId": "e0e2f93e-e08c-4faf-8548-b30d335eacff"
      },
      "execution_count": 12,
      "outputs": [
        {
          "output_type": "stream",
          "name": "stdout",
          "text": [
            "Enter a number: -1\n",
            "Negative\n"
          ]
        }
      ]
    },
    {
      "cell_type": "code",
      "source": [
        "for i in range(1, 11):\n",
        "    print(i)\n"
      ],
      "metadata": {
        "colab": {
          "base_uri": "https://localhost:8080/"
        },
        "id": "MpZ9p6YEg0Yl",
        "outputId": "62e8085a-8a79-4f48-8aaa-746d6ea0b1c4"
      },
      "execution_count": 13,
      "outputs": [
        {
          "output_type": "stream",
          "name": "stdout",
          "text": [
            "1\n",
            "2\n",
            "3\n",
            "4\n",
            "5\n",
            "6\n",
            "7\n",
            "8\n",
            "9\n",
            "10\n"
          ]
        }
      ]
    },
    {
      "cell_type": "code",
      "source": [
        "total = 0\n",
        "for i in range(1, 51):\n",
        "    if i % 2 == 0:\n",
        "        total += i\n",
        "print(\"Sum of even numbers:\", total)\n"
      ],
      "metadata": {
        "colab": {
          "base_uri": "https://localhost:8080/"
        },
        "id": "9j-hB7yPg3RN",
        "outputId": "7d044d45-c2d6-40be-f7e1-e02d438a7ce1"
      },
      "execution_count": 14,
      "outputs": [
        {
          "output_type": "stream",
          "name": "stdout",
          "text": [
            "Sum of even numbers: 650\n"
          ]
        }
      ]
    },
    {
      "cell_type": "code",
      "source": [
        "s = input(\"Enter a string: \")\n",
        "reversed_s = \"\"\n",
        "i = len(s) - 1\n",
        "\n",
        "while i >= 0:\n",
        "    reversed_s += s[i]\n",
        "    i -= 1\n",
        "\n",
        "print(\"Reversed string:\", reversed_s)\n"
      ],
      "metadata": {
        "colab": {
          "base_uri": "https://localhost:8080/"
        },
        "id": "wNvIkHtrg73d",
        "outputId": "980c45cc-5960-4995-e02c-8a2ab9008d73"
      },
      "execution_count": 16,
      "outputs": [
        {
          "output_type": "stream",
          "name": "stdout",
          "text": [
            "Enter a string: 11\n",
            "Reversed string: 11\n"
          ]
        }
      ]
    },
    {
      "cell_type": "code",
      "source": [
        "num = int(input(\"Enter a number: \"))\n",
        "fact = 1\n",
        "i = 1\n",
        "\n",
        "while i <= num:\n",
        "    fact *= i\n",
        "    i += 1\n",
        "\n",
        "print(\"Factorial:\", fact)\n"
      ],
      "metadata": {
        "colab": {
          "base_uri": "https://localhost:8080/"
        },
        "id": "DCsTFD5BhCOx",
        "outputId": "ff55fee7-6883-4482-e3e2-afe30b70c161"
      },
      "execution_count": 17,
      "outputs": [
        {
          "output_type": "stream",
          "name": "stdout",
          "text": [
            "Enter a number: 22\n",
            "Factorial: 1124000727777607680000\n"
          ]
        }
      ]
    }
  ]
}