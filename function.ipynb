{
  "nbformat": 4,
  "nbformat_minor": 0,
  "metadata": {
    "colab": {
      "provenance": []
    },
    "kernelspec": {
      "name": "python3",
      "display_name": "Python 3"
    },
    "language_info": {
      "name": "python"
    }
  },
  "cells": [
    {
      "cell_type": "markdown",
      "source": [
        "1. What is the difference between a function and a method in Python?\n",
        "Function: A block of code that performs a specific task and is defined using def. It’s not bound to any object.\n",
        "def greet():\n",
        "    print(\"Hello\")\n",
        "greet()\n",
        "Method: A function that is associated with an object and accessed via the dot (.) operator.\n",
        "name = \"John\"\n",
        "print(name.upper())  # upper() is a string method\n",
        "2. Explain the concept of function arguments and parameters in Python.\n",
        "Parameters: Variables listed in the function definition.\n",
        "Arguments: Actual values passed to the function when calling it.\n",
        "Example:\n",
        "\n",
        "def add(a, b):  # a and b are parameters\n",
        "    return a + b\n",
        "\n",
        "add(5, 3)  # 5 and 3 are arguments\n",
        "3. What are the different ways to define and call a function in Python?\n",
        "Define using def:\n",
        "def square(x):\n",
        "    return x*x\n",
        "Define using lambda:\n",
        "square = lambda x: x*x\n",
        "Calling a function:\n",
        "print(square(5))  # Output: 25\n",
        "4. What is the purpose of the return statement in a Python function?\n",
        "The return statement is used to send back a result from a function to the caller.\n",
        "\n",
        "def multiply(a, b):\n",
        "    return a * b\n",
        "\n",
        "result = multiply(3, 4)  # result = 12\n",
        "5. What are iterators in Python and how do they differ from iterables?\n",
        "Iterable: An object that can be looped over (e.g., list, tuple, string).\n",
        "Iterator: An object with a __next__() method to get elements one at a time.\n",
        "nums = [1, 2, 3]\n",
        "it = iter(nums)  # creates an iterator\n",
        "\n",
        "print(next(it))  # Output: 1\n",
        "print(next(it))  # Output: 2\n",
        "6. Explain the concept of generators in Python and how they are defined.\n",
        "Generators are functions that yield values one at a time using the yield keyword.\n",
        "\n",
        "def countdown(n):\n",
        "    while n > 0:\n",
        "        yield n\n",
        "        n -= 1\n",
        "7. What are the advantages of using generators over regular functions?\n",
        "Memory efficient: Yield items one by one, no need to store all values in memory.\n",
        "Lazy evaluation: Values are produced on the fly.\n",
        "Useful for large data streams.\n",
        "8. What is a lambda function in Python and when is it typically used?\n",
        "Lambda is an anonymous (nameless) function used for short operations.\n",
        "\n",
        "square = lambda x: x*x\n",
        "print(square(5))  # Output: 25\n",
        "Used with functions like map(), filter(), sorted().\n",
        "\n",
        "9. Explain the purpose and usage of the map() function in Python.\n",
        "map() applies a function to every item in an iterable.\n",
        "\n",
        "nums = [1, 2, 3]\n",
        "squared = list(map(lambda x: x**2, nums))  # [1, 4, 9]\n",
        "10. What is the difference between map(), reduce(), and filter() functions in Python?\n",
        "map(func, iterable): Applies function to each item.\n",
        "filter(func, iterable): Filters items based on function returning True.\n",
        "reduce(func, iterable): Applies rolling computation (needs functools).\n",
        "Example:\n",
        "\n",
        "from functools import reduce\n",
        "\n",
        "nums = [1, 2, 3, 4]\n",
        "print(list(map(lambda x: x*2, nums)))        # [2, 4, 6, 8]\n",
        "print(list(filter(lambda x: x%2 == 0, nums))) # [2, 4]\n",
        "print(reduce(lambda x, y: x+y, nums))         # 10\n",
        "11. Using pen & paper, write the internal mechanism for sum operation using reduce() function on this list: [47, 11, 42, 13]\n",
        "Step-by-step reduction:\n",
        "\n",
        "47 + 11 = 58\n",
        "58 + 42 = 100\n",
        "100 + 13 = 113\n",
        "Final result = 113\n",
        "\n",
        "In Python:\n",
        "\n",
        "from functools import reduce\n",
        "\n",
        "nums = [47, 11, 42, 13]\n",
        "sum_result = reduce(lambda x, y: x + y, nums)\n",
        "print(sum_result)  # Output: 113\n"
      ],
      "metadata": {
        "id": "vRpRR4xSwxB6"
      }
    },
    {
      "cell_type": "code",
      "source": [
        "def sum_even_numbers(numbers):\n",
        "    return sum(num for num in numbers if num % 2 == 0)\n",
        "\n",
        "print(sum_even_numbers([1, 2, 3, 4, 5, 6]))"
      ],
      "metadata": {
        "colab": {
          "base_uri": "https://localhost:8080/"
        },
        "id": "s6Q0eiphw1Jw",
        "outputId": "0da1f43a-a8e4-42ec-df81-d5c2de61ecdf"
      },
      "execution_count": 13,
      "outputs": [
        {
          "output_type": "stream",
          "name": "stdout",
          "text": [
            "12\n"
          ]
        }
      ]
    },
    {
      "cell_type": "code",
      "source": [
        "def square_list(numbers):\n",
        "    return [num ** 2 for num in numbers]\n",
        "\n",
        "print(square_list([1, 2, 3]))\n"
      ],
      "metadata": {
        "colab": {
          "base_uri": "https://localhost:8080/"
        },
        "id": "ulUA4cm2v0l1",
        "outputId": "5d0059b1-7b00-4ef6-c0c4-488c1568131f"
      },
      "execution_count": 3,
      "outputs": [
        {
          "output_type": "stream",
          "name": "stdout",
          "text": [
            "[1, 4, 9]\n"
          ]
        }
      ]
    },
    {
      "cell_type": "code",
      "source": [
        "def is_prime(n):\n",
        "    if n <= 1:\n",
        "        return False\n",
        "    for i in range(2, int(n**0.5)+1):\n",
        "        if n % i == 0:\n",
        "            return False\n",
        "    return True\n",
        "\n",
        "print(is_prime(17))\n"
      ],
      "metadata": {
        "colab": {
          "base_uri": "https://localhost:8080/"
        },
        "id": "ynxDDInUv1nt",
        "outputId": "1d5e7968-ca10-4ac5-dbf3-cd107b8c7181"
      },
      "execution_count": 4,
      "outputs": [
        {
          "output_type": "stream",
          "name": "stdout",
          "text": [
            "True\n"
          ]
        }
      ]
    },
    {
      "cell_type": "code",
      "source": [
        "class Fibonacci:\n",
        "    def __init__(self, limit):\n",
        "        self.a, self.b = 0, 1\n",
        "        self.count = 0\n",
        "        self.limit = limit\n",
        "\n",
        "    def __iter__(self):\n",
        "        return self\n",
        "\n",
        "    def __next__(self):\n",
        "        if self.count >= self.limit:\n",
        "            raise StopIteration\n",
        "        self.a, self.b = self.b, self.a + self.b\n",
        "        self.count += 1\n",
        "        return self.a\n",
        "\n",
        "for num in Fibonacci(5):\n",
        "    print(num)\n"
      ],
      "metadata": {
        "colab": {
          "base_uri": "https://localhost:8080/"
        },
        "id": "zwcgoELJv-Vw",
        "outputId": "dadaca1b-9a69-47e5-de06-73f76f258168"
      },
      "execution_count": 5,
      "outputs": [
        {
          "output_type": "stream",
          "name": "stdout",
          "text": [
            "1\n",
            "1\n",
            "2\n",
            "3\n",
            "5\n"
          ]
        }
      ]
    },
    {
      "cell_type": "code",
      "source": [],
      "metadata": {
        "id": "O2kQ9m9cwNpt"
      },
      "execution_count": null,
      "outputs": []
    },
    {
      "cell_type": "code",
      "source": [
        "def power_of_2(max_exp):\n",
        "    for i in range(max_exp + 1):\n",
        "        yield 2 ** i\n",
        "\n",
        "for val in power_of_2(4):\n",
        "    print(val)\n"
      ],
      "metadata": {
        "colab": {
          "base_uri": "https://localhost:8080/"
        },
        "id": "Lx3N-c3MwAzH",
        "outputId": "9c210d4a-20ba-41de-e6c5-a4950381f15a"
      },
      "execution_count": 6,
      "outputs": [
        {
          "output_type": "stream",
          "name": "stdout",
          "text": [
            "1\n",
            "2\n",
            "4\n",
            "8\n",
            "16\n"
          ]
        }
      ]
    },
    {
      "cell_type": "code",
      "source": [
        "def read_lines(filename):\n",
        "    with open(filename, 'r') as file:\n",
        "        for line in file:\n",
        "            yield line.strip()\n",
        "\n"
      ],
      "metadata": {
        "id": "tQkGYmwTwENB"
      },
      "execution_count": 7,
      "outputs": []
    },
    {
      "cell_type": "code",
      "source": [
        "data = [(1, 3), (2, 1), (3, 2)]\n",
        "sorted_data = sorted(data, key=lambda x: x[1])\n",
        "print(sorted_data)\n"
      ],
      "metadata": {
        "colab": {
          "base_uri": "https://localhost:8080/"
        },
        "id": "1JBeDp5FwG7A",
        "outputId": "0f1f151d-8eb8-40da-eac0-047c6d332d27"
      },
      "execution_count": 8,
      "outputs": [
        {
          "output_type": "stream",
          "name": "stdout",
          "text": [
            "[(2, 1), (3, 2), (1, 3)]\n"
          ]
        }
      ]
    },
    {
      "cell_type": "code",
      "source": [
        "celsius = [0, 20, 30, 100]\n",
        "fahrenheit = list(map(lambda c: (c * 9/5) + 32, celsius))\n",
        "print(fahrenheit)\n"
      ],
      "metadata": {
        "colab": {
          "base_uri": "https://localhost:8080/"
        },
        "id": "m3S4IfnowOOZ",
        "outputId": "bab8e16e-46b7-42b7-8013-7206ae1855bd"
      },
      "execution_count": 9,
      "outputs": [
        {
          "output_type": "stream",
          "name": "stdout",
          "text": [
            "[32.0, 68.0, 86.0, 212.0]\n"
          ]
        }
      ]
    },
    {
      "cell_type": "code",
      "source": [
        "def remove_vowels(text):\n",
        "    return ''.join(filter(lambda x: x.lower() not in 'aeiou', text))\n",
        "\n",
        "print(remove_vowels(\"Hello World\"))  # Output: Hll Wrld\n"
      ],
      "metadata": {
        "colab": {
          "base_uri": "https://localhost:8080/"
        },
        "id": "MOdZF6OUwQkI",
        "outputId": "b9f7f09a-1c05-4336-cce3-9b8ed903e882"
      },
      "execution_count": 10,
      "outputs": [
        {
          "output_type": "stream",
          "name": "stdout",
          "text": [
            "Hll Wrld\n"
          ]
        }
      ]
    },
    {
      "cell_type": "code",
      "source": [
        "orders = [\n",
        "    [34587, \"Learning Python, Mark Lutz\", 4, 40.95],\n",
        "    [98762, \"Programming Python, Mark Lutz\", 5, 56.80],\n",
        "    [77226, \"Head First Python, Paul Barry\", 3, 32.95],\n",
        "    [88112, \"Einführung in Python3, Bernd Klein\", 3, 24.99]\n",
        "]\n",
        "\n",
        "result = list(map(lambda order: (\n",
        "    order[0],\n",
        "    round(order[2] * order[3] + (10 if order[2] * order[3] < 100 else 0), 2)\n",
        "), orders))\n",
        "\n",
        "print(result)\n",
        "# Output: [(34587, 173.8), (98762, 284.0), (77226, 108.85), (88112, 84.97)]\n"
      ],
      "metadata": {
        "colab": {
          "base_uri": "https://localhost:8080/"
        },
        "id": "30TdZ7CewSs2",
        "outputId": "1cac156b-9881-4fdc-92c7-d1b18421464e"
      },
      "execution_count": 11,
      "outputs": [
        {
          "output_type": "stream",
          "name": "stdout",
          "text": [
            "[(34587, 163.8), (98762, 284.0), (77226, 108.85), (88112, 84.97)]\n"
          ]
        }
      ]
    },
    {
      "cell_type": "code",
      "source": [],
      "metadata": {
        "id": "ttyREqB7wV3-"
      },
      "execution_count": null,
      "outputs": []
    }
  ]
}